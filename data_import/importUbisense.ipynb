{
  "cells": [
    {
      "cell_type": "markdown",
      "metadata": {
        "id": "uwItHVAqjEFW"
      },
      "source": [
        "# Helper Script to Import Data from Ubisense\n",
        "\n",
        "Script to import data from Ubisense \"all rawdata\" download. Reads in data, checks for any inconsistencies in tag recordings and outputs a cleaned data set for analysis. This is anticipated for use in preparing data for integration with observed data and environmental analysis.\n",
        "\n",
        "Reads in a csv file in the following format:\n",
        "\n",
        "`Patient, Location, from, to  `\n",
        "\n",
        "It then cleans the data to:\n",
        "- split the location data in to x and y columns\n",
        "- rename the `from` `to` columns to avoid keyword conlicts \n",
        "- deletes any rows that dont start with G or R\n",
        "- look for any records where start to finish are over 24 hours (since these are probably not valid or stale tags) and removes all records for that tag id\n",
        "- looks at each tag record and if any have a start and finish time that are more than an hour it deletes that individual entry (sometimes tag end times are a few hours after the end of a shift)\n",
        "- for each patient we look for any journeys greater than 6 hours and delete them (assumes incorrect tag allocation)\n",
        "- for each patient we look for any journeys less than 15 minutes and delete them \n",
        "\n",
        "Finally the output is saved to csv and has the format:\n",
        "\n",
        "`Patient, Location, starttime,\tendtime,\txlocation,\tylocation, step_length `"
      ]
    },
    {
      "cell_type": "markdown",
      "metadata": {
        "id": "qM5ExbNqjSPK"
      },
      "source": [
        "## Initialisation\n",
        "\n",
        "Import dependencies, create helper function, initialise some variables including loading in data. Files to import are based on the Ubisense \"all rawdata\" downloads from the reports section of their application interface. These are stored locally in the project \"Teams\" folder Data>ubisense>rawdata_smartspaces and usually have a filename such as \"phase2_all_20220130.csv\"."
      ]
    },
    {
      "cell_type": "code",
      "execution_count": null,
      "metadata": {
        "id": "DmrqV7CvzfiK"
      },
      "outputs": [],
      "source": [
        "from matplotlib import pyplot as plt\n",
        "import matplotlib.animation as animation\n",
        "import pandas as pd\n",
        "import numpy as np\n",
        "import datetime as dt\n",
        "import math\n",
        "import seaborn as sns\n",
        "import scipy.stats as sps\n",
        "from scipy import stats\n",
        "\n",
        "order_list = ['Monday', 'Tuesday', 'Wednesday', 'Thursday', 'Friday', 'Saturday', 'Sunday']\n",
        "order_list_noweekend = ['Monday', 'Tuesday', 'Wednesday', 'Thursday', 'Friday']\n",
        "\n",
        "pd.set_option('display.max_rows', 300) # specifies number of rows to show\n",
        "pd.options.display.float_format = '{:40,.4f}'.format # specifies default number format to 4 decimal places\n",
        "plt.style.use('ggplot') # specifies that graphs should use ggplot styling\n",
        "\n",
        "##### Edit fields below before processing data #######\n",
        "\n",
        "phase = 'P4_staff_september' # edit which Phase you are analysing - this is used in graph and file generation\n",
        "# this script assumes CSV above has MM/DD/YYYY format - if not changes needed in next section below\n",
        "\n",
        "start_date = '2022-7-6' # edit these for reducing processed download between 2 dates\n",
        "end_date = '2022-10-01'\n",
        "\n",
        "##### Edit fields above before processing data #######\n",
        "\n",
        "\n",
        "df = pd.read_csv('{}_raw.csv'.format(phase))\n",
        "df # check what column headings in file"
      ]
    },
    {
      "cell_type": "markdown",
      "metadata": {
        "id": "zJtsozu1jcP6"
      },
      "source": [
        "## Data Cleaning and Formatting\n",
        "\n",
        "Data formatted for analysis. Note imported data from csv is in MM/DD/YYYY format - below we convert to a datetime in YYYY-MM-DD HH:MM:SS format. \n",
        "\n",
        "NEED TO MAKE SURE IF UBISENSE CHANGE OUTPUT OF THEIR RAW TABLE DOWNLOAD WE NEED TO RE ADD DAYFIRST FLAG BELOW."
      ]
    },
    {
      "cell_type": "code",
      "execution_count": null,
      "metadata": {
        "id": "GMLwtm1ozfiQ"
      },
      "outputs": [],
      "source": [
        "df = df.dropna() # remove any rows with null values\n",
        "df[['xlocation', 'ylocation']] = df['Location'].str.split(',', expand = True) # create seperate columns for the x y values\n",
        "df.rename(columns={\"from\": \"starttime\", \"to\": \"endtime\"}, inplace=True) # renaming from and to column headings (from is a keyword)\n",
        "df['starttime'] = pd.to_datetime(df['starttime']) #, dayfirst=True)\n",
        "df['endtime'] = pd.to_datetime(df['endtime']) #, dayfirst=True)\n",
        "df"
      ]
    },
    {
      "cell_type": "code",
      "source": [
        "#df.rename(columns={'Technician':'Patient'}, inplace=True)\n",
        "df[~df[\"Patient\"].str.startswith(('G', 'R', 'C', 'S'))] # look for any records that dont (~) start with G or R "
      ],
      "metadata": {
        "id": "Ob9ZD3TaXfzt"
      },
      "execution_count": null,
      "outputs": []
    },
    {
      "cell_type": "code",
      "source": [
        "df = df.drop(df[~df[\"Patient\"].str.startswith(('G', 'R', 'C', 'S'))].index) # and then drop those rows\n",
        "df"
      ],
      "metadata": {
        "id": "neavny2vWb3i"
      },
      "execution_count": null,
      "outputs": []
    },
    {
      "cell_type": "code",
      "source": [
        "df['step_length'] = df['endtime'] - df['starttime'] # add in variable that reports the time at each step between records\n",
        "print(df[df['step_length'] > pd.Timedelta(2, 'h')]) # list out any where the time iterval is greater than 2 hours for an individual step"
      ],
      "metadata": {
        "id": "I6xeeu0KgDKW"
      },
      "execution_count": null,
      "outputs": []
    },
    {
      "cell_type": "code",
      "source": [
        "print(df[df['step_length'] < pd.Timedelta(0, 'h')]) # list out any where the time iterval is greater than 2 hours for an individual step"
      ],
      "metadata": {
        "id": "2Fy5kxeZ7fzW"
      },
      "execution_count": null,
      "outputs": []
    },
    {
      "cell_type": "code",
      "source": [
        "df[df['Patient'] == 'R0651'] # If you want to check data before deletion, use this function to check to see the record that seems to be too long"
      ],
      "metadata": {
        "id": "qJnyUdU-jWzC"
      },
      "execution_count": null,
      "outputs": []
    },
    {
      "cell_type": "code",
      "source": [
        "df = df.drop(df[df['step_length'] > pd.Timedelta(2, 'h')].index) # remove any individual step records that are more than 2 hours\n",
        "df = df.drop(df[df['step_length'] < pd.Timedelta(0, 'h')].index) # remove any individual step records that are more than 2 hours"
      ],
      "metadata": {
        "id": "t4BqBvf7hXo3"
      },
      "execution_count": null,
      "outputs": []
    },
    {
      "cell_type": "code",
      "source": [
        "# check the start and end dates of the phase being reported yyyy-mmm-dd\n",
        "print(\"Earliest Date: \", df.starttime.min())\n",
        "print(\"Latest Date:   \", df.endtime.max())\n",
        "#df.dtypes"
      ],
      "metadata": {
        "id": "vcCXxO5RmhYY"
      },
      "execution_count": null,
      "outputs": []
    },
    {
      "cell_type": "code",
      "source": [
        "df.sort_values(by=['starttime'])\n",
        "df"
      ],
      "metadata": {
        "id": "DA_mmTC77b57"
      },
      "execution_count": null,
      "outputs": []
    },
    {
      "cell_type": "code",
      "source": [
        "mask = (df['starttime'] > start_date) & (df['starttime'] <= end_date)\n",
        "df.sort_values(by=['starttime'])\n",
        "df = df.loc[mask]\n",
        "df"
      ],
      "metadata": {
        "id": "YxJD7AEIlaWk"
      },
      "execution_count": null,
      "outputs": []
    },
    {
      "cell_type": "code",
      "source": [
        "# check the start and end dates of the phase being reported yyyy-mmm-dd\n",
        "print(\"Earliest Date: \", df.starttime.min())\n",
        "print(\"Latest Date:   \", df.endtime.max())"
      ],
      "metadata": {
        "id": "VOy63fjDoFlS"
      },
      "execution_count": null,
      "outputs": []
    },
    {
      "cell_type": "code",
      "source": [
        "df.nsmallest(10, 'step_length')"
      ],
      "metadata": {
        "id": "E7PcxL6M7OWk"
      },
      "execution_count": null,
      "outputs": []
    },
    {
      "cell_type": "code",
      "source": [
        "df.sort_values(by=['starttime'])"
      ],
      "metadata": {
        "id": "tX70dMSiyHLJ"
      },
      "execution_count": null,
      "outputs": []
    },
    {
      "cell_type": "code",
      "execution_count": null,
      "metadata": {
        "id": "QYl-0BE6zfiT"
      },
      "outputs": [],
      "source": [
        "df.dtypes # list out the updated column names and data types"
      ]
    },
    {
      "cell_type": "markdown",
      "metadata": {
        "id": "Lf1RtYfkkBIv"
      },
      "source": [
        "## Create a new dataframe to group each patient id\n",
        "\n",
        "The code belows gets the earliest and latest times from a patient allowing the total journey time to be tracked. "
      ]
    },
    {
      "cell_type": "code",
      "execution_count": null,
      "metadata": {
        "id": "IET2sRL2zfiV"
      },
      "outputs": [],
      "source": [
        "dfgrouped = df.groupby('Patient', as_index = False).agg(\n",
        "    {'starttime': ['min'], 'endtime': ['max'], 'xlocation': ['first'], 'ylocation': ['first']})\n",
        "dfgrouped"
      ]
    },
    {
      "cell_type": "markdown",
      "metadata": {
        "id": "1mIAcfMqkHtq"
      },
      "source": [
        "The code below changes column headers and continues to format and clean the data for subsequent analysis."
      ]
    },
    {
      "cell_type": "code",
      "execution_count": null,
      "metadata": {
        "id": "eDuu69xQzfiX"
      },
      "outputs": [],
      "source": [
        "flat_cols = []\n",
        "for i in dfgrouped.columns:\n",
        "    flat_cols.append(i[0]) # take the first element of the column heading only (ie ignore min, max, first)\n",
        "dfgrouped.columns = flat_cols"
      ]
    },
    {
      "cell_type": "markdown",
      "metadata": {
        "id": "4LcPc2uMkNbt"
      },
      "source": [
        "Add in length of journey to each grouped patient id"
      ]
    },
    {
      "cell_type": "code",
      "execution_count": null,
      "metadata": {
        "id": "0vI8bNTQzfia"
      },
      "outputs": [],
      "source": [
        "dfgrouped['visit_length'] = dfgrouped['endtime'] - dfgrouped['starttime']"
      ]
    },
    {
      "cell_type": "code",
      "source": [
        "dfgrouped"
      ],
      "metadata": {
        "id": "0fVBYtmIO1ps"
      },
      "execution_count": null,
      "outputs": []
    },
    {
      "cell_type": "markdown",
      "metadata": {
        "id": "ym35p0vPkRwv"
      },
      "source": [
        "# Delete Outlier Patient Journeys\n",
        "Check to see if there are any groups of patient records that are over 1 day in length and then remove them from data frame. Assumption here is that if tag timings are greater than 24 hours it is a tag that has been aborted, lost or forgotton about. NOTE: this will remove any records where the same Patient ID has been used twice. "
      ]
    },
    {
      "cell_type": "code",
      "execution_count": null,
      "metadata": {
        "id": "FWhw4Re9z-lK"
      },
      "outputs": [],
      "source": [
        "print(dfgrouped[dfgrouped['visit_length'] > pd.Timedelta(1, 'd')]) # list out the ones to be deleted"
      ]
    },
    {
      "cell_type": "code",
      "source": [
        "dfgrouped = dfgrouped.drop(dfgrouped[dfgrouped['visit_length'] > pd.Timedelta(1, 'd')].index) # delete those over 1 day"
      ],
      "metadata": {
        "id": "ueZDpgi_3RY0"
      },
      "execution_count": null,
      "outputs": []
    },
    {
      "cell_type": "code",
      "execution_count": null,
      "metadata": {
        "id": "Bnd3Ruznzfia"
      },
      "outputs": [],
      "source": [
        "dfgrouped['visit_length'].max() # check to see what max length of visit is after first cull"
      ]
    },
    {
      "cell_type": "markdown",
      "source": [
        "Check to see if there are any tags that have been left unchecked at end of day - and delete those records from main dataframe. NOTE: could try and delete the readings that are overnight but difficult pattern to identify - since low percentage of results, just delete - think these are tags that are not checked back in properly?"
      ],
      "metadata": {
        "id": "8YphYr6abhii"
      }
    },
    {
      "cell_type": "code",
      "source": [
        "dfgrouped[dfgrouped['visit_length'] > pd.Timedelta(6, 'h')] # check to see how many patient journeys are over 6 hours - probably not valid so delete"
      ],
      "metadata": {
        "id": "W_sCiCkOW0NC"
      },
      "execution_count": null,
      "outputs": []
    },
    {
      "cell_type": "code",
      "source": [
        "dfgrouped = dfgrouped.drop(dfgrouped[dfgrouped['endtime'] - dfgrouped['starttime'] > pd.Timedelta(6, 'h')].index) # delete those over 5 hours"
      ],
      "metadata": {
        "id": "Py2PGxCBbv9r"
      },
      "execution_count": null,
      "outputs": []
    },
    {
      "cell_type": "markdown",
      "source": [
        "Check to see how many patient journeys are implausibly short - ie under 15 minutes - and delete those."
      ],
      "metadata": {
        "id": "up8aWXmV8nDD"
      }
    },
    {
      "cell_type": "code",
      "source": [
        "dfgrouped['visit_length'].min() # check to see what min length of visit is after first cull"
      ],
      "metadata": {
        "id": "TiQ7kRcP6YIf"
      },
      "execution_count": null,
      "outputs": []
    },
    {
      "cell_type": "code",
      "source": [
        "dfgrouped[dfgrouped['visit_length'] < pd.Timedelta(15, 'm')] # check to see how many patient journeys are under 15 mins - probably not valid so delete"
      ],
      "metadata": {
        "id": "3pZlwZCk6es3"
      },
      "execution_count": null,
      "outputs": []
    },
    {
      "cell_type": "code",
      "source": [
        "dfgrouped = dfgrouped.drop(dfgrouped[dfgrouped['endtime'] - dfgrouped['starttime'] < pd.Timedelta(15, 'm')].index) # delete those under 15 min"
      ],
      "metadata": {
        "id": "e2JzoNDZ80pn"
      },
      "execution_count": null,
      "outputs": []
    },
    {
      "cell_type": "code",
      "source": [
        "dfgrouped"
      ],
      "metadata": {
        "id": "0_jDoQ4cqT0W"
      },
      "execution_count": null,
      "outputs": []
    },
    {
      "cell_type": "code",
      "source": [
        "# make a copy of records (df3) from df that have an equivalent Patient id in dfgrouped\n",
        "df3 = df[df['Patient'].isin(dfgrouped['Patient'])]  \n",
        "print('start record count: ', df.Patient.count())\n",
        "print('clean record count: ', df3.Patient.count())"
      ],
      "metadata": {
        "id": "GnJZFMl7sAio"
      },
      "execution_count": null,
      "outputs": []
    },
    {
      "cell_type": "markdown",
      "source": [
        "# Export back to clean csv\n",
        "Assumes user will then move to appropriate \"clean data\" folder so just using generic output.csv filename."
      ],
      "metadata": {
        "id": "X95F1GRtYAWj"
      }
    },
    {
      "cell_type": "code",
      "source": [
        "df3.to_csv('{}_input.csv'.format(phase), index=False) # note use subset of records in df3"
      ],
      "metadata": {
        "id": "YmKpbC4G-G-9"
      },
      "execution_count": null,
      "outputs": []
    },
    {
      "cell_type": "markdown",
      "source": [
        "To end, print out some patient journey stats for info!"
      ],
      "metadata": {
        "id": "mpb4xGdSAKxe"
      }
    },
    {
      "cell_type": "code",
      "execution_count": null,
      "metadata": {
        "id": "2doSuRfOzfib"
      },
      "outputs": [],
      "source": [
        "dfgrouped['visit_length'].describe()"
      ]
    },
    {
      "cell_type": "markdown",
      "source": [
        "End"
      ],
      "metadata": {
        "id": "PwKa5Y1WCEF5"
      }
    }
  ],
  "metadata": {
    "colab": {
      "collapsed_sections": [],
      "name": "updated_datetime_phase2.ipynb",
      "provenance": []
    },
    "interpreter": {
      "hash": "aee8b7b246df8f9039afb4144a1f6fd8d2ca17a180786b69acc140d282b71a49"
    },
    "kernelspec": {
      "display_name": "Python 3.9.8 64-bit",
      "language": "python",
      "name": "python3"
    },
    "language_info": {
      "codemirror_mode": {
        "name": "ipython",
        "version": 3
      },
      "file_extension": ".py",
      "mimetype": "text/x-python",
      "name": "python",
      "nbconvert_exporter": "python",
      "pygments_lexer": "ipython3",
      "version": "3.9.8"
    }
  },
  "nbformat": 4,
  "nbformat_minor": 0
}