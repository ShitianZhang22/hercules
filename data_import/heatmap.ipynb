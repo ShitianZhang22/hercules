{
  "nbformat": 4,
  "nbformat_minor": 0,
  "metadata": {
    "colab": {
      "provenance": [],
      "authorship_tag": "ABX9TyMkCnW5/ubmy1onKQdZKdfS",
      "include_colab_link": true
    },
    "kernelspec": {
      "name": "python3",
      "display_name": "Python 3"
    },
    "language_info": {
      "name": "python"
    }
  },
  "cells": [
    {
      "cell_type": "markdown",
      "metadata": {
        "id": "view-in-github",
        "colab_type": "text"
      },
      "source": [
        "<a href=\"https://colab.research.google.com/github/djdunc/hercules/blob/main/data_import/heatmap.ipynb\" target=\"_parent\"><img src=\"https://colab.research.google.com/assets/colab-badge.svg\" alt=\"Open In Colab\"/></a>"
      ]
    },
    {
      "cell_type": "code",
      "execution_count": null,
      "metadata": {
        "id": "0R32yggfJZ5f"
      },
      "outputs": [],
      "source": [
        "import pandas as pd\n",
        "import numpy as np\n",
        "import matplotlib.pyplot as plt\n",
        "import seaborn as sns\n",
        "\n",
        "# Load your data into a DataFrame\n",
        "data = pd.read_csv(\"your_data.csv\")\n",
        "\n",
        "# Convert 'starttime' and 'endtime' to datetime objects\n",
        "data['starttime'] = pd.to_datetime(data['starttime'])\n",
        "data['endtime'] = pd.to_datetime(data['endtime'])\n",
        "\n",
        "# Create a new DataFrame with minute intervals\n",
        "start_time = data['starttime'].min()\n",
        "end_time = data['endtime'].max()\n",
        "index = pd.date_range(start=start_time.floor('T'), end=end_time.ceil('T'), freq='T')\n",
        "agg_data = pd.DataFrame(index=index)\n",
        "\n",
        "# Iterate through each row of your data and increment the count in the corresponding minute interval\n",
        "for _, row in data.iterrows():\n",
        "    start = row['starttime'].floor('T')\n",
        "    end = row['endtime'].ceil('T')\n",
        "    agg_data.loc[start:end] = agg_data.loc[start:end].fillna(0) + 1\n",
        "\n"
      ]
    },
    {
      "cell_type": "code",
      "source": [
        "# Create the heatmap using Seaborn\n",
        "plt.figure(figsize=(12, 8))\n",
        "sns.heatmap(agg_data.T, cmap='viridis', annot=True, fmt='g')\n",
        "plt.title('Aggregated Heatmap of Spatial Data (Minute Intervals)')\n",
        "plt.xlabel('Time')\n",
        "plt.ylabel('Counts')\n",
        "plt.show()\n"
      ],
      "metadata": {
        "id": "A3m4cyclJdIJ"
      },
      "execution_count": null,
      "outputs": []
    }
  ]
}